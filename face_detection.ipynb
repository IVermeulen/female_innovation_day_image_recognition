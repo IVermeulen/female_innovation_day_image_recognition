{
 "cells": [
  {
   "cell_type": "code",
   "execution_count": 1,
   "metadata": {},
   "outputs": [],
   "source": [
    "from scipy.spatial.distance import cosine\n",
    "import cv2\n",
    "import numpy as np\n",
    "import matplotlib.pyplot as plt\n"
   ]
  },
  {
   "cell_type": "code",
   "execution_count": 3,
   "metadata": {
    "collapsed": true
   },
   "outputs": [],
   "source": [
    "class FaceDetector:\n",
    "    '''\n",
    "    Uses opencv2 to find all faces in an image using\n",
    "    haar cascades.\n",
    "\n",
    "    [1] Viola, Jones: 'Rapid Object Detection using a Boosted Cascade\n",
    "    of Simple Features', CVPR 2001\n",
    "    https://www.cs.cmu.edu/~efros/courses/LBMV07/Papers/viola-cvpr-01.pdf\n",
    "\n",
    "    [2] Open CV Doc:\n",
    "    https://docs.opencv.org/3.3.0/d7/d8b/tutorial_py_face_detection.html\n",
    "    '''\n",
    "    def __init__(self):\n",
    "        self.cascade = cv2.CascadeClassifier('models/haarcascade_frontalface_alt2.xml')\n",
    "\n",
    "    def detect(self, frame):\n",
    "        gray = cv2.cvtColor(frame, cv2.COLOR_BGR2GRAY)\n",
    "        detected = self.cascade.detectMultiScale(gray, 1.2, 5)\n",
    "        faces = []\n",
    "        for (x,y,w,h) in detected:\n",
    "            area = frame[y:y+h, x:x+w]\n",
    "            face = cv2.resize(area, (224, 224), interpolation = cv2.INTER_AREA)\n",
    "            face = np.float32(np.expand_dims(face, axis=0))\n",
    "            if w > 50 and h > 50:\n",
    "                faces += [(x, y, w, h, face)]\n",
    "        return faces"
   ]
  },
  {
   "cell_type": "code",
   "execution_count": 4,
   "metadata": {},
   "outputs": [],
   "source": [
    "def get_faces(path):\n",
    "    '''\n",
    "    calls the face detection code and returns an array of faces in a single image (specified with the path) \n",
    "    '''\n",
    "    face_detector = FaceDetector()\n",
    "    frame = cv2.imread(path, cv2.IMREAD_COLOR)\n",
    "    faces = []\n",
    "    for (x, y, w, h, face) in face_detector.detect(frame):\n",
    "        faces.append((x,y,w,h,face))\n",
    "    return faces"
   ]
  },
  {
   "cell_type": "code",
   "execution_count": 5,
   "metadata": {},
   "outputs": [],
   "source": [
    "def plot_faces(faces, path):\n",
    "    '''\n",
    "    plots all faces in in an array of faces (plus the original image)\n",
    "    '''\n",
    "    frame = cv2.imread(path, cv2.IMREAD_COLOR)\n",
    "    plt.figure(1)\n",
    "    plt.imshow(frame)\n",
    "    plt.show()\n",
    "    for i, face in enumerate(faces):\n",
    "        plt.figure(1)\n",
    "        plt.imshow(faces[i][4][0])\n",
    "        plt.show()\n",
    "    "
   ]
  },
  {
   "cell_type": "code",
   "execution_count": null,
   "metadata": {},
   "outputs": [],
   "source": []
  }
 ],
 "metadata": {
  "kernelspec": {
   "display_name": "Python 2",
   "language": "python",
   "name": "python2"
  },
  "language_info": {
   "codemirror_mode": {
    "name": "ipython",
    "version": 2
   },
   "file_extension": ".py",
   "mimetype": "text/x-python",
   "name": "python",
   "nbconvert_exporter": "python",
   "pygments_lexer": "ipython2",
   "version": "2.7.6"
  }
 },
 "nbformat": 4,
 "nbformat_minor": 0
}
